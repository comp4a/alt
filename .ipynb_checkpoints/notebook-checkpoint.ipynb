{
 "cells": [
  {
   "cell_type": "code",
   "execution_count": 1,
   "metadata": {},
   "outputs": [],
   "source": [
    "import numpy as np"
   ]
  },
  {
   "cell_type": "code",
   "execution_count": null,
   "metadata": {},
   "outputs": [],
   "source": [
    "def levenshtein_distance2(x, y):\n",
    "    current_row = np.zeros((1+len(x)))\n",
    "    previous_row = np.zeros((1+len(x)))\n",
    "    \n",
    "    current_row[0] = 0\n",
    "    for i in range(1, len(x)+1):\n",
    "        current_row[i] = current_row[i-1] + 1\n",
    "    for j in range(1, len(y)+1):\n",
    "        previous_row, current_row = current_row, previous_row\n",
    "        current_row[0] = previous_row[0] + 1\n",
    "        for i in range(1, len(x)+1):\n",
    "            current_row[i] = min(current_row[i-1] + 1,\n",
    "            previous_row[i] + 1,\n",
    "            previous_row[i-1] + (x[i-1] != y[j-1]))\n",
    "    return current_row[len(x)]\n",
    "\n",
    "levenshtein_distance2('bocata','bazoka')\n",
    "\n",
    "def levenshtein_distance_trie(x, y):\n",
    "    current_row = np.zeros((1+len(x)))\n",
    "    previous_row = np.zeros((1+len(x)))\n",
    "    \n",
    "    current_row[0] = 0\n",
    "    for i in range(1, len(x)+1):\n",
    "        current_row[i] = current_row[i-1] + 1\n",
    "    for j in range(1, len(y)+1):\n",
    "        previous_row, current_row = current_row, previous_row\n",
    "        current_row[0] = previous_row[0] + 1\n",
    "        for i in range(1, len(x)+1):\n",
    "            current_row[i] = min(current_row[i-1] + 1,\n",
    "            previous_row[i] + 1,\n",
    "            previous_row[i-1] + (x[i-1] != y[j-1]))\n",
    "    return current_row[len(x)]\n",
    "\n"
   ]
  },
  {
   "cell_type": "code",
   "execution_count": 18,
   "metadata": {},
   "outputs": [
    {
     "data": {
      "text/plain": [
       "5"
      ]
     },
     "execution_count": 18,
     "metadata": {},
     "output_type": "execute_result"
    }
   ],
   "source": [
    "\n",
    "# estructura para crear un trie\n",
    "class TrieNode(object):\n",
    "    indice = 0\n",
    "    def __init__(self, char):\n",
    "        self.char = char\n",
    "        self.children = []\n",
    "        self.father = None\n",
    "        self.word_finished = False\n",
    "        self.word= None\n",
    "        self.counter = 1\n",
    "\n",
    "    def add(self, word):\n",
    "\n",
    "        node = self\n",
    "        for char in word:\n",
    "            found_in_child = False\n",
    "            for child in node.children:\n",
    "                if child.char == char:\n",
    "                    node.counter += 1\n",
    "                    node = child\n",
    "                    found_in_child = True\n",
    "                    break\n",
    "            \n",
    "            if not found_in_child:\n",
    "                new_node = TrieNode(char)\n",
    "                node.children.append(new_node)\n",
    "                node.counter += 1\n",
    "                new_node.father = node\n",
    "                node = new_node\n",
    "                TrieNode.indice += 1\n",
    "                node.indice = TrieNode.indice\n",
    "                \n",
    "        \n",
    "        node.word_finished = True\n",
    "        node.word = word\n",
    "\n",
    "    def toString(self):\n",
    "        word = \"\"\n",
    "        if(self.word_finished):\n",
    "            word= str(self.word)\n",
    "        print(str(self.indice)+\" \" +self.char + \"  \" + str(self.counter) + \"  \"+str(self.word_finished)+\"   \" + word)\n",
    "        \n",
    "        for node in self.children:\n",
    "            node.toString()\n",
    "\n",
    "    def pull(node,ind):\n",
    "        if(node.indice == ind):\n",
    "            print(type(node))\n",
    "            return node\n",
    "        else:\n",
    "            for nodeChild in node.children:\n",
    "                if nodeChild.indice <= ind:\n",
    "                    return nodeChild.pull(ind)\n",
    "\n",
    "                    \n",
    "trie = TrieNode(\"\")\n",
    "trie.add(\"caro\")\n",
    "trie.add(\"cara\")\n",
    "trie.add(\"codo\")\n",
    "trie.add(\"caros\")\n",
    "\n",
    "trie2 = TrieNode(\"\")\n",
    "trie2.add(\"patata\")\n",
    "trie2.add(\"patatero\")\n",
    "trie2.add(\"pisto\")\n",
    "trie2.add(\"pimiento\")\n",
    "\n",
    "\n",
    "trie.counter\n"
   ]
  },
  {
   "cell_type": "code",
   "execution_count": 10,
   "metadata": {},
   "outputs": [
    {
     "ename": "AttributeError",
     "evalue": "'NoneType' object has no attribute 'counter'",
     "output_type": "error",
     "traceback": [
      "\u001b[0;31m-------------------------------------------------------------------------\u001b[0m",
      "\u001b[0;31mAttributeError\u001b[0m                          Traceback (most recent call last)",
      "\u001b[0;32m<ipython-input-10-d23c02ae8ef6>\u001b[0m in \u001b[0;36m<module>\u001b[0;34m\u001b[0m\n\u001b[0;32m----> 1\u001b[0;31m \u001b[0ma\u001b[0m\u001b[0;34m.\u001b[0m\u001b[0mcounter\u001b[0m\u001b[0;34m\u001b[0m\u001b[0;34m\u001b[0m\u001b[0m\n\u001b[0m",
      "\u001b[0;31mAttributeError\u001b[0m: 'NoneType' object has no attribute 'counter'"
     ]
    }
   ],
   "source": []
  },
  {
   "cell_type": "code",
   "execution_count": null,
   "metadata": {},
   "outputs": [],
   "source": []
  }
 ],
 "metadata": {
  "kernelspec": {
   "display_name": "Python 3",
   "language": "python",
   "name": "python3"
  },
  "language_info": {
   "codemirror_mode": {
    "name": "ipython",
    "version": 3
   },
   "file_extension": ".py",
   "mimetype": "text/x-python",
   "name": "python",
   "nbconvert_exporter": "python",
   "pygments_lexer": "ipython3",
   "version": "3.7.3"
  }
 },
 "nbformat": 4,
 "nbformat_minor": 4
}
