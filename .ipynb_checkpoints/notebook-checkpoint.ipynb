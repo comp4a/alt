{
 "cells": [
  {
   "cell_type": "code",
   "execution_count": 1,
   "metadata": {},
   "outputs": [],
   "source": [
    "import numpy as np"
   ]
  },
  {
   "cell_type": "code",
   "execution_count": null,
   "metadata": {},
   "outputs": [],
   "source": [
    "def levenshtein_distance2(x, y):\n",
    "    current_row = np.zeros((1+len(x)))\n",
    "    previous_row = np.zeros((1+len(x)))\n",
    "    \n",
    "    current_row[0] = 0\n",
    "    for i in range(1, len(x)+1):\n",
    "        current_row[i] = current_row[i-1] + 1\n",
    "    for j in range(1, len(y)+1):\n",
    "        previous_row, current_row = current_row, previous_row\n",
    "        current_row[0] = previous_row[0] + 1\n",
    "        for i in range(1, len(x)+1):\n",
    "            current_row[i] = min(current_row[i-1] + 1,\n",
    "            previous_row[i] + 1,\n",
    "            previous_row[i-1] + (x[i-1] != y[j-1]))\n",
    "    return current_row[len(x)]\n",
    "\n",
    "levenshtein_distance2('bocata','bazoka')\n",
    "\n",
    "def levenshtein_distance_trie(x, y):\n",
    "    current_row = np.zeros((1+len(x)))\n",
    "    previous_row = np.zeros((1+len(x)))\n",
    "    \n",
    "    current_row[0] = 0\n",
    "    for i in range(1, len(x)+1):\n",
    "        current_row[i] = current_row[i-1] + 1\n",
    "    for j in range(1, len(y)+1):\n",
    "        previous_row, current_row = current_row, previous_row\n",
    "        current_row[0] = previous_row[0] + 1\n",
    "        for i in range(1, len(x)+1):\n",
    "            current_row[i] = min(current_row[i-1] + 1,\n",
    "            previous_row[i] + 1,\n",
    "            previous_row[i-1] + (x[i-1] != y[j-1]))\n",
    "    return current_row[len(x)]\n",
    "\n"
   ]
  },
  {
   "cell_type": "code",
   "execution_count": 68,
   "metadata": {},
   "outputs": [
    {
     "name": "stdout",
     "output_type": "stream",
     "text": [
      "0   5  False   \n",
      "1 c  5  False   \n",
      "2 a  4  False   \n",
      "3 r  4  False   \n",
      "4 o  2  True   caro\n",
      "9 s  1  True   caros\n",
      "5 a  1  True   cara\n",
      "6 o  2  False   \n",
      "7 d  2  False   \n",
      "8 o  1  True   codo\n",
      "\n"
     ]
    },
    {
     "data": {
      "text/plain": [
       "'s'"
      ]
     },
     "execution_count": 68,
     "metadata": {},
     "output_type": "execute_result"
    }
   ],
   "source": [
    "class TrieNode(object):\n",
    "    def __init__(self, char):\n",
    "        self.indice = 0\n",
    "        self.char = char\n",
    "        self.children = []\n",
    "        self.father = None\n",
    "        self.word_finished = False\n",
    "        self.word= None\n",
    "        self.counter = 1\n",
    "\n",
    "    def pull(self,ind):\n",
    "        if(self.indice == ind):\n",
    "            return self\n",
    "        else:\n",
    "            for nodeChild in self.children:\n",
    "                if nodeChild.indice <= ind:\n",
    "                    return nodeChild.pull(ind)\n",
    "\n",
    "                \n",
    "    def toString(self):\n",
    "        word = \"\"\n",
    "        res = \"\"\n",
    "        if(self.word_finished):\n",
    "            word= str(self.word)\n",
    "        res =  str(self.indice)+\" \" +self.char + \"  \" + str(self.counter) + \"  \"+str(self.word_finished)+\"   \" + word + \"\\n\"\n",
    "\n",
    "        for node in self.children:\n",
    "            res = res + node.toString()\n",
    "        \n",
    "        return res  \n",
    "        \n",
    "class Trie(object):\n",
    "    def __init__(self):\n",
    "        self.size = 0\n",
    "        self.node = TrieNode('')\n",
    "        \n",
    "    def add(self, word):\n",
    "        node = self.node\n",
    "        for char in word:\n",
    "            found_in_child = False\n",
    "            for child in node.children:\n",
    "                if child.char == char:\n",
    "                    node.counter += 1\n",
    "                    node = child\n",
    "                    found_in_child = True\n",
    "                    break\n",
    "            \n",
    "            if not found_in_child:\n",
    "                new_node = TrieNode(char)\n",
    "                node.children.append(new_node)\n",
    "                node.counter += 1\n",
    "                new_node.father = node\n",
    "                node = new_node\n",
    "                self.size += 1\n",
    "                node.indice = self.size\n",
    "        node.word_finished = True\n",
    "        node.word = word\n",
    "\n",
    "    def toString(self):\n",
    "        node = self.node\n",
    "        return node.toString()\n",
    "\n",
    "    def pull(self,ind):\n",
    "        node = self.node\n",
    "        return node.pull(ind)\n",
    "    \n",
    "\n",
    "\n",
    "                    \n",
    "trie = Trie()\n",
    "trie.add(\"caro\")\n",
    "trie.add(\"cara\")\n",
    "trie.add(\"codo\")\n",
    "trie.add(\"caros\")\n",
    "\n",
    "print(trie.toString())\n",
    "trie.pull(9).char"
   ]
  },
  {
   "cell_type": "code",
   "execution_count": null,
   "metadata": {},
   "outputs": [],
   "source": []
  },
  {
   "cell_type": "code",
   "execution_count": null,
   "metadata": {},
   "outputs": [],
   "source": []
  }
 ],
 "metadata": {
  "kernelspec": {
   "display_name": "Python 3",
   "language": "python",
   "name": "python3"
  },
  "language_info": {
   "codemirror_mode": {
    "name": "ipython",
    "version": 3
   },
   "file_extension": ".py",
   "mimetype": "text/x-python",
   "name": "python",
   "nbconvert_exporter": "python",
   "pygments_lexer": "ipython3",
   "version": "3.7.3"
  }
 },
 "nbformat": 4,
 "nbformat_minor": 4
}
