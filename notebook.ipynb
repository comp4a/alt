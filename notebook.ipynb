{
 "cells": [
  {
   "cell_type": "code",
   "execution_count": 4,
   "metadata": {},
   "outputs": [],
   "source": [
    "import numpy as np\n",
    "\n",
    "def levenshtein_distance2(x, y):\n",
    "    current_row = np.zeros((1+len(x)))\n",
    "    previous_row = np.zeros((1+len(x)))\n",
    "    \n",
    "    current_row[0] = 0\n",
    "    for i in range(1, len(x)+1):\n",
    "        current_row[i] = current_row[i-1] + 1\n",
    "    for j in range(1, len(y)+1):\n",
    "        previous_row, current_row = current_row, previous_row\n",
    "        current_row[0] = previous_row[0] + 1\n",
    "        for i in range(1, len(x)+1):\n",
    "            current_row[i] = min(current_row[i-1] + 1,\n",
    "            previous_row[i] + 1,\n",
    "            previous_row[i-1] + (x[i-1] != y[j-1]))\n",
    "    return current_row[len(x)]"
   ]
  },
  {
   "cell_type": "code",
   "execution_count": 5,
   "metadata": {},
   "outputs": [
    {
     "data": {
      "text/plain": [
       "4.0"
      ]
     },
     "execution_count": 5,
     "metadata": {},
     "output_type": "execute_result"
    }
   ],
   "source": [
    "levenshtein_distance2('bocata','bazoka')"
   ]
  },
  {
   "cell_type": "code",
   "execution_count": null,
   "metadata": {},
   "outputs": [],
   "source": []
  }
 ],
 "metadata": {
  "kernelspec": {
   "display_name": "Python 3",
   "language": "python",
   "name": "python3"
  },
  "language_info": {
   "codemirror_mode": {
    "name": "ipython",
    "version": 3
   },
   "file_extension": ".py",
   "mimetype": "text/x-python",
   "name": "python",
   "nbconvert_exporter": "python",
   "pygments_lexer": "ipython3",
   "version": "3.7.3"
  }
 },
 "nbformat": 4,
 "nbformat_minor": 4
}
