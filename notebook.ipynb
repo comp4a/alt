{
 "cells": [
  {
   "cell_type": "code",
   "execution_count": 1,
   "metadata": {},
   "outputs": [],
   "source": [
    "import numpy as np"
   ]
  },
  {
   "cell_type": "code",
   "execution_count": 13,
   "metadata": {},
   "outputs": [
    {
     "data": {
      "text/plain": [
       "4.0"
      ]
     },
     "execution_count": 13,
     "metadata": {},
     "output_type": "execute_result"
    }
   ],
   "source": [
    "def levenshtein_distance2(x, y):\n",
    "    current_row = np.zeros((1+len(x)))\n",
    "    previous_row = np.zeros((1+len(x)))\n",
    "    \n",
    "    current_row[0] = 0\n",
    "    for i in range(1, len(x)+1):\n",
    "        current_row[i] = current_row[i-1] + 1\n",
    "    for j in range(1, len(y)+1):\n",
    "        previous_row, current_row = current_row, previous_row\n",
    "        current_row[0] = previous_row[0] + 1\n",
    "        for i in range(1, len(x)+1):\n",
    "            current_row[i] = min(current_row[i-1] + 1,\n",
    "            previous_row[i] + 1,\n",
    "            previous_row[i-1] + (x[i-1] != y[j-1]))\n",
    "    return current_row[len(x)]\n",
    "\n",
    "levenshtein_distance2('zzzz','a')\n"
   ]
  },
  {
   "cell_type": "code",
   "execution_count": 3,
   "metadata": {},
   "outputs": [],
   "source": [
    "class TrieNode(object):\n",
    "    \"\"\"\n",
    "    Nodo interno de un Trie\n",
    "\n",
    "    Attributes\n",
    "    ----------\n",
    "    indice : int\n",
    "        Identificador del nodo (en orden)\n",
    "\n",
    "    char : char\n",
    "        Letra que guarda el nodo\n",
    "\n",
    "    children : TrieNode[] <- lista\n",
    "        Numero de nodos del trie\n",
    "\n",
    "    father : TrieNode\n",
    "        Padre del nodo\n",
    "\n",
    "    word_finished : bool\n",
    "        Indica si el TrieNode completa una palabra\n",
    "\n",
    "    word : str\n",
    "        Palabra guardada por el TrieNode\n",
    "\n",
    "    counter: int\n",
    "        Numero de palabras que pasan por el TrieNode\n",
    "\n",
    "    \"\"\"\n",
    "    def __init__(self, char):\n",
    "        self.indice = 0\n",
    "        self.char = char\n",
    "        self.children = []\n",
    "        self.father = None\n",
    "        self.word_finished = False\n",
    "        self.word= None\n",
    "        self.counter = 1\n",
    "        self.depth = 0\n",
    "\n",
    "    \n",
    "    def toString(self):\n",
    "        word2 = \"\"\n",
    "        res = \"\"\n",
    "        if(self.word_finished):\n",
    "            word2 = str(self.word)\n",
    "        if self.indice != 0 :\n",
    "            res =  str(self.indice)+\"\\t\" + str(self.father.indice)+\"\\t\" +self.char + \"\\t\" + str(self.counter) + \"\\t\"+str(self.word_finished)+\"\\t\" + word2 + \"\\n\"\n",
    "        else: \n",
    "            res =  str(self.indice)+\"\\tN\\t\" +self.char + \"\\t\" + str(self.counter) + \"\\t\"+str(self.word_finished)+\"\\t\" + word2 + \"\\n\"\n",
    "\n",
    "        for node in self.children:\n",
    "            res = res + node.toString()\n",
    "        return res  \n",
    "        \n",
    "\n",
    "\n",
    "class Trie(object):\n",
    "    \"\"\"\n",
    "    Estructura de datos Trie\n",
    "\n",
    "    Attributes\n",
    "    ----------\n",
    "    size : int\n",
    "        Numero de nodos del trie\n",
    "    node : TrieNode\n",
    "        Nodo raiz del Trie\n",
    "    dictionary : dictionary[int:TrieNode]\n",
    "        diccionario que vincula el indice con el nodo para accesos mas rápidos\n",
    "    \"\"\"\n",
    "    def __init__(self):\n",
    "        self.size = 0\n",
    "        self.node = TrieNode('')\n",
    "        self.dictionary = {0 : self.node}\n",
    "        \n",
    "    def add(self, word):\n",
    "        \"\"\"\n",
    "        Añade una palabra al Trie\n",
    "\n",
    "        Parameters\n",
    "        ----------\n",
    "        word : str\n",
    "            palabra a añadir\n",
    "    \n",
    "        \"\"\"\n",
    "        node = self.node\n",
    "        for char in word:\n",
    "            found_in_child = False\n",
    "            for child in node.children:\n",
    "                if child.char == char:\n",
    "                    node.counter += 1\n",
    "                    node = child\n",
    "                    found_in_child = True\n",
    "                    break\n",
    "            \n",
    "            if not found_in_child:\n",
    "                new_node = TrieNode(char)\n",
    "                node.children.append(new_node)\n",
    "                node.counter += 1\n",
    "                new_node.father = node\n",
    "                new_node.depth = node.depth+1\n",
    "                node = new_node\n",
    "                self.size += 1\n",
    "                node.indice = self.size\n",
    "#                 Inserta elemento en tabla hash\n",
    "                self.dictionary[node.indice] = node\n",
    "                \n",
    "        node.word_finished = True\n",
    "        node.word = word\n",
    "\n",
    "    def toString(self):\n",
    "        \"\"\"\n",
    "        Devuelve un string que describe el Trie\n",
    "\n",
    "        Returns\n",
    "        -------\n",
    "        str\n",
    "    \n",
    "        \"\"\"\n",
    "        node = self.node\n",
    "        return node.toString()\n",
    "\n",
    "    def pull(self,ind):\n",
    "        \"\"\"\n",
    "        Dado un indice devuelve el TrieNode asociado\n",
    "\n",
    "        Parameters\n",
    "        ----------\n",
    "        ind : int\n",
    "            indice del nodo a devolver\n",
    "\n",
    "        Returns\n",
    "        -------\n",
    "        TrieNode\n",
    "    \n",
    "        \"\"\"\n",
    "        return self.dictionary[ind+1]\n",
    "\n"
   ]
  },
  {
   "cell_type": "code",
   "execution_count": 28,
   "metadata": {},
   "outputs": [
    {
     "name": "stdout",
     "output_type": "stream",
     "text": [
      "0\tN\t\t2\tFalse\t\n",
      "1\t0\tb\t2\tFalse\t\n",
      "2\t1\to\t2\tFalse\t\n",
      "3\t2\tc\t2\tFalse\t\n",
      "4\t3\ta\t2\tFalse\t\n",
      "5\t4\tt\t2\tFalse\t\n",
      "6\t5\ta\t2\tFalse\t\n",
      "7\t6\ts\t1\tTrue\tbocatas\n",
      "\n"
     ]
    },
    {
     "data": {
      "text/plain": [
       "{}"
      ]
     },
     "execution_count": 28,
     "metadata": {},
     "output_type": "execute_result"
    }
   ],
   "source": [
    "def expandir(pos,id_trie,dist):\n",
    "\n",
    "    # Condiciones casos base:\n",
    "    fin_palabra = pos >= len(palabra)\n",
    "    fin_trie = trie.pull(id_trie).children == [] \n",
    "    \n",
    "    # Condicion añadir palabra\n",
    "    anyadir_palabra = trie.pull(id_trie).word_finished == True and dist < max_dist\n",
    "    \n",
    "    # tal vez se añadan palabras repetidas\n",
    "    if fin_trie or fin_palabra:\n",
    "        if anyadir_palabra:\n",
    "            return {trie.pull(id_trie).word: dist+1}\n",
    "        else:\n",
    "            return {}\n",
    "    # Se han de hacer condiciones separadas porque puede que solo se avance\n",
    "    # en la palabra y por lo tanto se añada dos veces la palabra del trie\n",
    "\n",
    "\n",
    "    if anyadir_palabra:\n",
    "        palabras = {trie.pull(id_trie).word: dist+1}\n",
    "    else:\n",
    "        palabras = {}\n",
    "    \n",
    "    id_trie_sig = trie.pull(id_trie).children\n",
    "    \n",
    "    palabras.update( expandir(pos+1,id_trie,dist+1) )\n",
    "    palabras.update( expandir(pos,id_trie+1,dist+1) ) # Se esta asumendo que el trie solo tiene una palabra\n",
    "    if(palabra[pos] == trie.pull(id_trie).char): # La primera letra del trie esta en 1\n",
    "        palabras.update( expandir(pos+1,id_trie+1,dist) )\n",
    "    else:\n",
    "        palabras.update( expandir(pos+1,id_trie+1,dist+1) ) \n",
    "    \n",
    "    \n",
    "    return palabras\n",
    "\n",
    "trie = Trie()\n",
    "trie.add(\"bocatas\")\n",
    "# trie.add(\"bazokas\")\n",
    "palabra = 'bazoka'\n",
    "max_dist = 4;\n",
    "print(trie.toString())\n",
    "\n",
    "expandir(0,0,0)"
   ]
  },
  {
   "cell_type": "code",
   "execution_count": 24,
   "metadata": {},
   "outputs": [],
   "source": [
    "a = {'a':1}\n",
    "a.update({'b':2})"
   ]
  },
  {
   "cell_type": "code",
   "execution_count": 25,
   "metadata": {},
   "outputs": [
    {
     "data": {
      "text/plain": [
       "{'a': 1, 'b': 2}"
      ]
     },
     "execution_count": 25,
     "metadata": {},
     "output_type": "execute_result"
    }
   ],
   "source": [
    "a"
   ]
  },
  {
   "cell_type": "code",
   "execution_count": 23,
   "metadata": {},
   "outputs": [
    {
     "name": "stdout",
     "output_type": "stream",
     "text": [
      "None\n"
     ]
    }
   ],
   "source": [
    "print(b)"
   ]
  },
  {
   "cell_type": "code",
   "execution_count": null,
   "metadata": {},
   "outputs": [],
   "source": []
  }
 ],
 "metadata": {
  "kernelspec": {
   "display_name": "Python 3",
   "language": "python",
   "name": "python3"
  },
  "language_info": {
   "codemirror_mode": {
    "name": "ipython",
    "version": 3
   },
   "file_extension": ".py",
   "mimetype": "text/x-python",
   "name": "python",
   "nbconvert_exporter": "python",
   "pygments_lexer": "ipython3",
   "version": "3.7.3"
  }
 },
 "nbformat": 4,
 "nbformat_minor": 4
}
